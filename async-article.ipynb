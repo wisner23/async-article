{
 "cells": [
  {
   "cell_type": "code",
   "execution_count": 1,
   "metadata": {},
   "outputs": [
    {
     "name": "stdout",
     "output_type": "stream",
     "text": [
      "Calling consecutive numbers needed... 1\n",
      "3\n",
      "Calling consecutive numbers needed... 2\n",
      "24\n",
      "Calling consecutive numbers needed... 3\n",
      "23\n"
     ]
    }
   ],
   "source": [
    "import time\n",
    "\n",
    "def consecutive_numbers_needed(A):\n",
    "    A.sort()\n",
    "\n",
    "    numbers_to_add = []\n",
    "    for idx, a in enumerate(A):\n",
    "        if idx < len(A)-1 and A[idx+1] != a+1:\n",
    "            for x in range(a+1, A[idx+1]):\n",
    "                numbers_to_add.append(x)\n",
    "    \n",
    "    return numbers_to_add\n",
    "\n",
    "def quantity_consecutive_needed(numbers_to_add, n):\n",
    "    print(\"Calling consecutive numbers needed...\", n)\n",
    "\n",
    "    time.sleep(0.01)\n",
    "    amount_numbers_needed = len(consecutive_numbers_needed(numbers_to_add))\n",
    "    print(amount_numbers_needed)\n",
    "    \n",
    "    return amount_numbers_needed\n",
    "    \n",
    "def main():\n",
    "    quantity_consecutive_needed([6, 2, 2, 2, 2, 2, 2, 2, 3, 8 ,8], 1)\n",
    "    quantity_consecutive_needed([10, 2, 30, 8 ,12], 2)\n",
    "    quantity_consecutive_needed([5, 3, 10, 18 ,30], 3)\n",
    "\n",
    "main()"
   ]
  },
  {
   "cell_type": "code",
   "execution_count": 211,
   "metadata": {
    "scrolled": true
   },
   "outputs": [
    {
     "name": "stdout",
     "output_type": "stream",
     "text": [
      "Calling consecutive numbers needed... 1\n",
      "3\n",
      "Calling consecutive numbers needed... 2\n",
      "24\n",
      "Calling consecutive numbers needed... 3\n",
      "23\n",
      "Took 33.00 ms\n"
     ]
    }
   ],
   "source": [
    "import time\n",
    "def consecutive_numbers_needed(A):\n",
    "    A.sort()\n",
    "\n",
    "    numbers_to_add = []\n",
    "    for idx, a in enumerate(A):\n",
    "        if idx < len(A)-1 and A[idx+1] != a+1:\n",
    "            for x in range(a+1, A[idx+1]):\n",
    "                numbers_to_add.append(x)\n",
    "    \n",
    "    return numbers_to_add\n",
    "\n",
    "def quantity_consecutive_needed(numbers_to_add, n):\n",
    "    print(\"Calling consecutive numbers needed...\", n)\n",
    "    time.sleep(0.01)\n",
    "    amount_numbers_needed = len(consecutive_numbers_needed(numbers_to_add))\n",
    "    print(amount_numbers_needed)\n",
    "    \n",
    "    return amount_numbers_needed\n",
    "    \n",
    "def main():\n",
    "    quantity_consecutive_needed([6, 2, 2, 2, 2, 2, 2, 2, 3, 8 ,8], 1)\n",
    "    quantity_consecutive_needed([10, 2, 30, 8 ,12], 2)\n",
    "    quantity_consecutive_needed([5, 3, 10, 18 ,30], 3)\n",
    "\n",
    "t0 = time.time()    \n",
    "main()\n",
    "t1 = time.time()\n",
    "\n",
    "print(\"Took %.2f ms\" % (1000*(t1-t0)))\n"
   ]
  },
  {
   "cell_type": "markdown",
   "metadata": {},
   "source": [
    "Perceba, apesar da syntax assíncrona, o código abaixo continua de forma sincrona"
   ]
  },
  {
   "cell_type": "code",
   "execution_count": 95,
   "metadata": {},
   "outputs": [
    {
     "data": {
      "text/plain": [
       "<coroutine object main at 0x0000020FD03E2D00>"
      ]
     },
     "execution_count": 95,
     "metadata": {},
     "output_type": "execute_result"
    }
   ],
   "source": [
    "import asyncio\n",
    "\n",
    "def consecutive_numbers_needed(A):\n",
    "    A.sort()\n",
    "\n",
    "    numbers_to_add = []\n",
    "    for idx, a in enumerate(A):\n",
    "        if idx < len(A)-1 and A[idx+1] != a+1:\n",
    "            for x in range(a+1, A[idx+1]):\n",
    "                numbers_to_add.append(x)\n",
    "    \n",
    "    return numbers_to_add\n",
    "\n",
    "def quantity_consecutive_needed(numbers_to_add, n):\n",
    "    print(\"Calling consecutive numbers needed...\", n)\n",
    "    \n",
    "    amount_numbers_needed = len(consecutive_numbers_needed(numbers_to_add))\n",
    "    print(amount_numbers_needed)\n",
    "    \n",
    "    return amount_numbers_needed\n",
    "    \n",
    "async def main():\n",
    "     quantity_consecutive_needed([6, 2, 3, 8 ,8], 1)\n",
    "     quantity_consecutive_needed([10, 2, 30, 8 ,12], 2)\n",
    "     quantity_consecutive_needed([5, 3, 10, 18 ,30], 3)\n",
    "\n",
    "main()"
   ]
  },
  {
   "cell_type": "code",
   "execution_count": 201,
   "metadata": {},
   "outputs": [
    {
     "name": "stdout",
     "output_type": "stream",
     "text": [
      "Calling consecutive numbers needed... 2\n",
      "Calling consecutive numbers needed... 1\n",
      "Calling consecutive numbers needed... 3\n",
      "24\n",
      "3\n",
      "23\n",
      "Took 4.96 ms\n"
     ]
    }
   ],
   "source": [
    "import asyncio\n",
    "import time\n",
    "\n",
    "def consecutive_numbers_needed(A):\n",
    "    A.sort()\n",
    "\n",
    "    numbers_to_add = []\n",
    "    for idx, a in enumerate(A):\n",
    "        if idx < len(A)-1 and A[idx+1] != a+1:\n",
    "            for x in range(a+1, A[idx+1]):\n",
    "                numbers_to_add.append(x)\n",
    "    \n",
    "    return numbers_to_add\n",
    "\n",
    "async def quantity_consecutive_needed(numbers_to_add, n):\n",
    "    print(\"Calling consecutive numbers needed...\", n)\n",
    "    await asyncio.sleep(0.01)\n",
    "    \n",
    "    amount_numbers_needed = len(consecutive_numbers_needed(numbers_to_add))\n",
    "    print(amount_numbers_needed)\n",
    "    \n",
    "    return amount_numbers_needed\n",
    "    \n",
    "async def main():\n",
    "    await asyncio.wait([\n",
    "        quantity_consecutive_needed([6, 2, 3, 8 ,8], 1),\n",
    "        quantity_consecutive_needed([10, 2, 30, 8 ,12], 2),\n",
    "        quantity_consecutive_needed([5, 3, 10, 18 ,30], 3)\n",
    "    ])\n",
    "\n",
    "t0 = time.time()    \n",
    "loop = asyncio.get_event_loop()\n",
    "loop.run_until_complete(main())\n",
    "t1 = time.time()\n",
    "\n",
    "print(\"Took %.2f ms\" % (1000*(t1-t0)))"
   ]
  },
  {
   "cell_type": "code",
   "execution_count": 3,
   "metadata": {
    "scrolled": true
   },
   "outputs": [
    {
     "data": {
      "text/plain": [
       "<coroutine object main at 0x000001E7F4BA1E08>"
      ]
     },
     "execution_count": 3,
     "metadata": {},
     "output_type": "execute_result"
    }
   ],
   "source": [
    "import asyncio\n",
    "\n",
    "def consecutive_numbers_needed(A):\n",
    "    A.sort()\n",
    "\n",
    "    numbers_to_add = []\n",
    "    for idx, a in enumerate(A):\n",
    "        if idx < len(A)-1 and A[idx+1] != a+1:\n",
    "            for x in range(a+1, A[idx+1]):\n",
    "                numbers_to_add.append(x)\n",
    "    \n",
    "    return numbers_to_add\n",
    "\n",
    "async def quantity_consecutive_needed(numbers_to_add, n):\n",
    "    print(\"Calling consecutive numbers needed...\", n)\n",
    "    \n",
    "    time.sleep(0.01)\n",
    "    amount_numbers_needed = len(consecutive_numbers_needed(numbers_to_add))\n",
    "    print(amount_numbers_needed)\n",
    "    \n",
    "    return amount_numbers_needed\n",
    "    \n",
    "async def main():\n",
    "    await asyncio.wait([\n",
    "        quantity_consecutive_needed([6, 2, 3, 8 ,8], 1),\n",
    "        quantity_consecutive_needed([10, 2, 30, 8 ,12], 2),\n",
    "        quantity_consecutive_needed([5, 3, 10, 18 ,30], 3)\n",
    "        ])\n",
    "\n",
    "    \n",
    "main()"
   ]
  }
 ],
 "metadata": {
  "kernelspec": {
   "display_name": "Python 3",
   "language": "python",
   "name": "python3"
  },
  "language_info": {
   "codemirror_mode": {
    "name": "ipython",
    "version": 3
   },
   "file_extension": ".py",
   "mimetype": "text/x-python",
   "name": "python",
   "nbconvert_exporter": "python",
   "pygments_lexer": "ipython3",
   "version": "3.6.4"
  }
 },
 "nbformat": 4,
 "nbformat_minor": 2
}
